{
 "cells": [
  {
   "cell_type": "markdown",
   "metadata": {},
   "source": [
    "# Snake Species Identification Challenge"
   ]
  },
  {
   "cell_type": "markdown",
   "metadata": {},
   "source": [
    "**Authors**:\n",
    "- Angus Mackenzie (1106817)\n",
    "- Nathan Michlo (1386161)"
   ]
  },
  {
   "cell_type": "markdown",
   "metadata": {},
   "source": [
    "------------------------"
   ]
  },
  {
   "cell_type": "markdown",
   "metadata": {},
   "source": [
    "## Imports & Modules"
   ]
  },
  {
   "cell_type": "code",
   "execution_count": 1,
   "metadata": {},
   "outputs": [],
   "source": [
    "from pprint import pprint\n",
    "from tqdm import tqdm\n",
    "\n",
    "import fastai\n",
    "import os\n",
    "import json\n",
    "import pandas as pd\n",
    "import pytorch_lightning as pl\n",
    "import sys\n",
    "import urllib.request\n",
    "\n",
    "from ssic import util\n",
    "from ssic import data"
   ]
  },
  {
   "cell_type": "markdown",
   "metadata": {},
   "source": [
    "**Add Local Modules to `PYTHON_PATH`**\n",
    "- This assumes that jupyter server was launched from the `root` directory of the project"
   ]
  },
  {
   "cell_type": "code",
   "execution_count": 2,
   "metadata": {},
   "outputs": [],
   "source": [
    "# SAVE ORIGINAL or RESTORE TO ORIGINAL\n",
    "util.restore_python_path()\n",
    "\n",
    "# Methods to visualise CNN activations: https://github.com/utkuozbulak/pytorch-cnn-visualizations\n",
    "util.add_python_path('vendor/pytorch-cnn-visualizations')\n",
    "# Mish activation function: https://github.com/digantamisra98/Mish\n",
    "util.add_python_path('vendor/Mish')\n",
    "# Variance of the Adaptive Learning Rate: https://github.com/LiyuanLucasLiu/RAdam\n",
    "util.add_python_path('vendor/RAdam')\n",
    "# Lookahead optimizer: https://github.com/alphadl/lookahead.pytorch\n",
    "util.add_python_path('vendor/lookahead.pytorch')\n",
    "# Ranger=RAdam+Lookahead: https://github.com/lessw2020/Ranger-Deep-Learning-Optimizer\n",
    "util.add_python_path('vendor/Ranger-Deep-Learning-Optimizer')"
   ]
  },
  {
   "cell_type": "markdown",
   "metadata": {},
   "source": [
    "------------------------------"
   ]
  },
  {
   "cell_type": "markdown",
   "metadata": {},
   "source": [
    "## Environment\n",
    "File that stores environment variables"
   ]
  },
  {
   "cell_type": "code",
   "execution_count": 3,
   "metadata": {},
   "outputs": [
    {
     "name": "stdout",
     "output_type": "stream",
     "text": [
      "[\u001b[92mLOADED\u001b[0m]: /home/nmichlo/workspace/snake-id/.env\n"
     ]
    }
   ],
   "source": [
    "util.load_env()"
   ]
  },
  {
   "cell_type": "markdown",
   "metadata": {},
   "source": [
    "------------------------"
   ]
  },
  {
   "cell_type": "markdown",
   "metadata": {},
   "source": [
    "## Load Data"
   ]
  },
  {
   "cell_type": "markdown",
   "metadata": {},
   "source": [
    "**Paths**"
   ]
  },
  {
   "cell_type": "code",
   "execution_count": 4,
   "metadata": {},
   "outputs": [
    {
     "name": "stdout",
     "output_type": "stream",
     "text": [
      "[\u001b[92mDATASET_DIR\u001b[0m]: \u001b[90m/home/nmichlo/downloads/datasets/ssic\u001b[0m\n",
      "[\u001b[92mSTORAGE_DIR\u001b[0m]: \u001b[90m/home/nmichlo/workspace/snake-id/out\u001b[0m\n",
      "[\u001b[92mDATASET_SSIC_CLASSES\u001b[0m]: \u001b[90m/home/nmichlo/downloads/datasets/ssic/class_idx_mapping.csv\u001b[0m\n",
      "[\u001b[92mDATASET_SSIC_TRAIN\u001b[0m]: \u001b[90m/home/nmichlo/downloads/datasets/ssic/train\u001b[0m\n",
      "[\u001b[92mDATASET_SSIC_TEST\u001b[0m]: \u001b[90m/home/nmichlo/downloads/datasets/ssic/round1\u001b[0m\n"
     ]
    }
   ],
   "source": [
    "# pretty much only need to change DATASET_DIR or STORAGE_DIR\n",
    "DATASET_DIR          = util.get_env_path('DATASET_DIR', 'data')\n",
    "STORAGE_DIR          = util.get_env_path('STORAGE_DIR', 'out')\n",
    "# based off of DATASET_DIR\n",
    "DATASET_SSIC_CLASSES = util.get_env_path('DATASET_SSIC_CLASSES', os.path.join(DATASET_DIR, 'class_idx_mapping.csv'))\n",
    "DATASET_SSIC_TRAIN   = util.get_env_path('DATASET_SSIC_TRAIN', os.path.join(DATASET_DIR, 'train'))  # path pattern: {DATASET_SSIC_TRAIN}/class-{class_id}/{uuid}.{ext}\n",
    "DATASET_SSIC_TEST    = util.get_env_path('DATASET_SSIC_TEST', os.path.join(DATASET_DIR, 'round1'))  # path pattern: {DATASET_SSIC_TEST}/{uuid}.{ext}"
   ]
  },
  {
   "cell_type": "markdown",
   "metadata": {},
   "source": [
    "**Classes**"
   ]
  },
  {
   "cell_type": "code",
   "execution_count": 5,
   "metadata": {},
   "outputs": [
    {
     "name": "stdout",
     "output_type": "stream",
     "text": [
      "[\u001b[92mLOADED\u001b[0m]: 45 classes from: /home/nmichlo/downloads/datasets/ssic/class_idx_mapping.csv\n",
      "[\u001b[92mLOADED\u001b[0m]: 45 classes from: /home/nmichlo/downloads/datasets/ssic/class_idx_mapping.csv\n"
     ]
    }
   ],
   "source": [
    "# classes\n",
    "CLASS_NAME_MAP = data.get_ssic_class_name_map(DATASET_SSIC_CLASSES) # int -> str\n",
    "NAME_CLASS_MAP = data.get_ssic_name_class_map(DATASET_SSIC_CLASSES) # str -> int"
   ]
  },
  {
   "cell_type": "markdown",
   "metadata": {},
   "source": [
    "**Image Info**"
   ]
  },
  {
   "cell_type": "code",
   "execution_count": 6,
   "metadata": {},
   "outputs": [
    {
     "name": "stdout",
     "output_type": "stream",
     "text": [
      "[\u001b[92mLOADED\u001b[0m]: /home/nmichlo/workspace/snake-id/out/img_paths.json\n",
      "  valid:   82417\n",
      "  invalid: 184\n"
     ]
    }
   ],
   "source": [
    "# image info | dictionaries of {name: str, path: str, class: int}\n",
    "VALID_IMG_INFO, INVALID_IMG_INFO = util.cache_data(\n",
    "    os.path.join(STORAGE_DIR, 'img_paths.json'),\n",
    "    lambda: data.get_ssic_train_img_info(DATASET_SSIC_TRAIN)\n",
    ")\n",
    "\n",
    "# Make sure that all classes appear in valid data and vice versa\n",
    "assert len({info['class_id'] for info in VALID_IMG_INFO.values()} - set(CLASS_NAME_MAP)) == 0\n",
    "assert len(set(CLASS_NAME_MAP) - {info['class_id'] for info in VALID_IMG_INFO.values()}) == 0\n",
    "\n",
    "print(f'  valid:   {len(VALID_IMG_INFO)}')\n",
    "print(f'  invalid: {len(INVALID_IMG_INFO)}')"
   ]
  },
  {
   "cell_type": "markdown",
   "metadata": {},
   "source": [
    "**Bounding Boxes**"
   ]
  },
  {
   "cell_type": "code",
   "execution_count": 7,
   "metadata": {},
   "outputs": [
    {
     "name": "stdout",
     "output_type": "stream",
     "text": [
      "[\u001b[92mLOADED\u001b[0m]: /home/nmichlo/workspace/snake-id/out/annotations.json\n",
      "  bounding boxes: 1423\n"
     ]
    }
   ],
   "source": [
    "# source article: https://medium.com/@Stormblessed/2460292bcfb\n",
    "\n",
    "# FORMAT: [ {annotations: [], class: 'image', filename: '{uuid}.{ext}', annotations: [{class: 'rect', height: float, width: float, x: float, y: float}, ...]}, ... ]\n",
    "BOUNDING_BOXES = util.cache_data(\n",
    "    os.path.join(STORAGE_DIR, 'annotations.json'),\n",
    "    lambda: json.load(urllib.request.urlopen('https://drive.google.com/uc?id=18dx_5Ngmc56fDRZ6YZA_elX-0ehtV5U6'))\n",
    ")\n",
    "\n",
    "print(f'  bounding boxes: {len(BOUNDING_BOXES)}')"
   ]
  },
  {
   "cell_type": "markdown",
   "metadata": {},
   "source": [
    "-------------------------"
   ]
  },
  {
   "cell_type": "markdown",
   "metadata": {},
   "source": [
    "## Train Bounding Box Network"
   ]
  },
  {
   "cell_type": "code",
   "execution_count": 10,
   "metadata": {},
   "outputs": [
    {
     "name": "stdout",
     "output_type": "stream",
     "text": [
      "[SEEDED]: 42\n"
     ]
    }
   ],
   "source": [
    "util.set_random_seed(42)\n",
    "\n"
   ]
  },
  {
   "cell_type": "code",
   "execution_count": null,
   "metadata": {},
   "outputs": [],
   "source": []
  },
  {
   "cell_type": "code",
   "execution_count": null,
   "metadata": {},
   "outputs": [],
   "source": []
  }
 ],
 "metadata": {
  "kernelspec": {
   "display_name": "Python 3",
   "language": "python",
   "name": "python3"
  },
  "language_info": {
   "codemirror_mode": {
    "name": "ipython",
    "version": 3
   },
   "file_extension": ".py",
   "mimetype": "text/x-python",
   "name": "python",
   "nbconvert_exporter": "python",
   "pygments_lexer": "ipython3",
   "version": "3.6.7"
  }
 },
 "nbformat": 4,
 "nbformat_minor": 4
}
