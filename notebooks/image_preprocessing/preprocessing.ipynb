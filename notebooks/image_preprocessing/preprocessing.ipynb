{
 "cells": [
  {
   "cell_type": "markdown",
   "metadata": {},
   "source": [
    "# Preprocessing Data\n",
    "\n",
    "**Author:** [Angus Mackenzie](https://github.com/AngusTheMack) ([1106817@students.wits.ac.za](mailto:1106817@students.wits.ac.za))\n",
    "\n",
    "**Achievement** Following the [loading data](https://www.tensorflow.org/tutorials/load_data/images) tutorial from Tensorflow, and loading in augmented data to feed into models.\n",
    "\n",
    "## Introduction\n",
    "Despite using the `visualising_data` notebook, to get an overall feel for the dataset, the method used in that notebook of loading in data would be slow. Hence, this notebook is used as a means of looking into alternatives. \n",
    "\n",
    "\n",
    "System details for reproducibility:"
   ]
  },
  {
   "cell_type": "code",
   "execution_count": 1,
   "metadata": {},
   "outputs": [
    {
     "name": "stdout",
     "output_type": "stream",
     "text": [
      "2019-09-30T21:20:49+02:00\n",
      "\n",
      "CPython 3.6.7\n",
      "IPython 7.8.0\n",
      "\n",
      "compiler   : GCC 7.3.0\n",
      "system     : Linux\n",
      "release    : 5.0.0-21-generic\n",
      "machine    : x86_64\n",
      "processor  : x86_64\n",
      "CPU cores  : 16\n",
      "interpreter: 64bit\n"
     ]
    }
   ],
   "source": [
    "%load_ext watermark\n",
    "%watermark"
   ]
  },
  {
   "cell_type": "code",
   "execution_count": null,
   "metadata": {},
   "outputs": [],
   "source": []
  }
 ],
 "metadata": {
  "kernelspec": {
   "display_name": "snakes",
   "language": "python",
   "name": "snakes"
  },
  "language_info": {
   "codemirror_mode": {
    "name": "ipython",
    "version": 3
   },
   "file_extension": ".py",
   "mimetype": "text/x-python",
   "name": "python",
   "nbconvert_exporter": "python",
   "pygments_lexer": "ipython3",
   "version": "3.6.7"
  }
 },
 "nbformat": 4,
 "nbformat_minor": 2
}
